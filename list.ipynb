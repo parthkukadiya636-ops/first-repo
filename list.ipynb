{
 "cells": [
  {
   "cell_type": "markdown",
   "id": "d884dd93-b7f1-44d5-b6be-a8ca6adb6e9e",
   "metadata": {},
   "source": [
    "## string imutable"
   ]
  },
  {
   "cell_type": "code",
   "execution_count": 2,
   "id": "f2477bf7-5ded-4fe9-9fcf-153a6dd41043",
   "metadata": {},
   "outputs": [
    {
     "name": "stdout",
     "output_type": "stream",
     "text": [
      "parth kukadiya\n"
     ]
    }
   ],
   "source": [
    "x= \"parth kukadiya\"\n",
    "print(x)"
   ]
  },
  {
   "cell_type": "code",
   "execution_count": 3,
   "id": "6e7d2550-a1dc-4a02-8236-7a8a3ccee5ec",
   "metadata": {},
   "outputs": [
    {
     "name": "stdout",
     "output_type": "stream",
     "text": [
      "[1, 2, 'ad', 'parth', 'a']\n"
     ]
    }
   ],
   "source": [
    "lst1 = [1,2,'ad', 'parth','a']\n",
    "print(lst1)"
   ]
  },
  {
   "cell_type": "code",
   "execution_count": 5,
   "id": "b5be2810-0a30-4f9d-80aa-8720fd17d84e",
   "metadata": {},
   "outputs": [
    {
     "data": {
      "text/plain": [
       "2"
      ]
     },
     "execution_count": 5,
     "metadata": {},
     "output_type": "execute_result"
    }
   ],
   "source": [
    "lst1[1]"
   ]
  },
  {
   "cell_type": "code",
   "execution_count": 6,
   "id": "4bf92a9f-8e24-4a12-8175-701d6eaafa80",
   "metadata": {},
   "outputs": [
    {
     "data": {
      "text/plain": [
       "'parth'"
      ]
     },
     "execution_count": 6,
     "metadata": {},
     "output_type": "execute_result"
    }
   ],
   "source": [
    "lst1[-2]"
   ]
  },
  {
   "cell_type": "code",
   "execution_count": 7,
   "id": "28bf3067-6c63-4e8c-afee-72bcafde5b41",
   "metadata": {},
   "outputs": [
    {
     "data": {
      "text/plain": [
       "5"
      ]
     },
     "execution_count": 7,
     "metadata": {},
     "output_type": "execute_result"
    }
   ],
   "source": [
    "len(lst1)"
   ]
  },
  {
   "cell_type": "code",
   "execution_count": 9,
   "id": "ffefb671-159f-4b6e-8aa9-181d0779f5ca",
   "metadata": {},
   "outputs": [
    {
     "data": {
      "text/plain": [
       "[2, 'ad', 'parth']"
      ]
     },
     "execution_count": 9,
     "metadata": {},
     "output_type": "execute_result"
    }
   ],
   "source": [
    "lst1[1:4]"
   ]
  },
  {
   "cell_type": "markdown",
   "id": "31912ec6-a010-483b-9d4f-e58c3cba4dc5",
   "metadata": {},
   "source": [
    "## 3.adding objects to list\n",
    "      1.(+)operator\n",
    "      2.append(object)\n",
    "      3.extend(list)"
   ]
  },
  {
   "cell_type": "code",
   "execution_count": 11,
   "id": "7cbe4b73-6ad0-4eaa-b378-985c72ca45f8",
   "metadata": {},
   "outputs": [
    {
     "name": "stdout",
     "output_type": "stream",
     "text": [
      "[1, 2, 'ad', 'parth', 'a', 1, 2, 3, 4, 5]\n"
     ]
    }
   ],
   "source": [
    "lst2 = [1,2,3,4,5]\n",
    "lst = lst1+lst2\n",
    "print(lst)"
   ]
  },
  {
   "cell_type": "code",
   "execution_count": 12,
   "id": "91949caa-6456-4325-b180-6b26784271c2",
   "metadata": {},
   "outputs": [
    {
     "data": {
      "text/plain": [
       "10"
      ]
     },
     "execution_count": 12,
     "metadata": {},
     "output_type": "execute_result"
    }
   ],
   "source": [
    "len(lst)"
   ]
  },
  {
   "cell_type": "code",
   "execution_count": 13,
   "id": "9ffd9de0-8dd7-44fa-b3ef-b3928a8821dd",
   "metadata": {},
   "outputs": [
    {
     "data": {
      "text/plain": [
       "[1, 2, 'ad', 'parth', 'a', 1, 2, 3, 4, 5, 24]"
      ]
     },
     "execution_count": 13,
     "metadata": {},
     "output_type": "execute_result"
    }
   ],
   "source": [
    "lst.append(24)\n",
    "lst\n"
   ]
  },
  {
   "cell_type": "code",
   "execution_count": 14,
   "id": "bbef54f3-7ff4-49c0-a3da-0fdf62d83613",
   "metadata": {},
   "outputs": [
    {
     "name": "stdout",
     "output_type": "stream",
     "text": [
      "[1, 2, 'ad', 'parth', 'a', 1, 2, 3, 4, 5, 24, 25, 15, 64]\n"
     ]
    }
   ],
   "source": [
    "lst.extend([25,15,64])\n",
    "print(lst)"
   ]
  },
  {
   "cell_type": "code",
   "execution_count": null,
   "id": "7c26b244-a7a2-462f-9dba-2de6bbfc13f7",
   "metadata": {},
   "outputs": [],
   "source": []
  }
 ],
 "metadata": {
  "kernelspec": {
   "display_name": "anaconda-2024.02-py310",
   "language": "python",
   "name": "conda-env-anaconda-2024.02-py310-py"
  },
  "language_info": {
   "codemirror_mode": {
    "name": "ipython",
    "version": 3
   },
   "file_extension": ".py",
   "mimetype": "text/x-python",
   "name": "python",
   "nbconvert_exporter": "python",
   "pygments_lexer": "ipython3",
   "version": "3.10.14"
  }
 },
 "nbformat": 4,
 "nbformat_minor": 5
}
